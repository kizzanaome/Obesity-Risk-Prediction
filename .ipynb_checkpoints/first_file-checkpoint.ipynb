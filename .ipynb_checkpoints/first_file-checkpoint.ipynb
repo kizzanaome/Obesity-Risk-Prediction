{
 "cells": [
  {
   "cell_type": "code",
   "execution_count": 1,
   "id": "786eb4b7-8db1-47d1-8d1e-706c696b2c3c",
   "metadata": {},
   "outputs": [
    {
     "name": "stdout",
     "output_type": "stream",
     "text": [
      "My first jupyter project has my name Noma Kizza on it\n"
     ]
    }
   ],
   "source": [
    "import pandas as PD\n",
    "import numpy\n",
    "\n",
    "name = \"Noma Kizza\"\n",
    "\n",
    "print(f\"My first jupyter project has my name {name} on it\")"
   ]
  },
  {
   "cell_type": "code",
   "execution_count": null,
   "id": "038c27e1-22b3-4d38-b0fe-525e42ad29a8",
   "metadata": {},
   "outputs": [],
   "source": []
  }
 ],
 "metadata": {
  "kernelspec": {
   "display_name": "Python 3 (ipykernel)",
   "language": "python",
   "name": "python3"
  },
  "language_info": {
   "codemirror_mode": {
    "name": "ipython",
    "version": 3
   },
   "file_extension": ".py",
   "mimetype": "text/x-python",
   "name": "python",
   "nbconvert_exporter": "python",
   "pygments_lexer": "ipython3",
   "version": "3.12.4"
  }
 },
 "nbformat": 4,
 "nbformat_minor": 5
}
